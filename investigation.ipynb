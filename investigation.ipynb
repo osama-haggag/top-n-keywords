{
 "cells": [
  {
   "cell_type": "code",
   "execution_count": 1,
   "metadata": {
    "collapsed": true
   },
   "outputs": [],
   "source": [
    "import nltk"
   ]
  },
  {
   "cell_type": "code",
   "execution_count": 2,
   "metadata": {
    "collapsed": true
   },
   "outputs": [],
   "source": [
    "import pandas as pd"
   ]
  },
  {
   "cell_type": "code",
   "execution_count": 3,
   "metadata": {},
   "outputs": [],
   "source": [
    "from sklearn.feature_extraction.text import TfidfVectorizer"
   ]
  },
  {
   "cell_type": "code",
   "execution_count": 4,
   "metadata": {
    "collapsed": true
   },
   "outputs": [],
   "source": [
    "import string"
   ]
  },
  {
   "cell_type": "code",
   "execution_count": 5,
   "metadata": {
    "collapsed": true
   },
   "outputs": [],
   "source": [
    "files = [\n",
    "    \"/home/gunny/Downloads/scripts/script.txt\",\n",
    "    \"/home/gunny/Downloads/scripts/transcript_1.txt\",\n",
    "    \"/home/gunny/Downloads/scripts/transcript_2.txt\",\n",
    "    \"/home/gunny/Downloads/scripts/transcript_3.txt\"\n",
    "]"
   ]
  },
  {
   "cell_type": "code",
   "execution_count": 6,
   "metadata": {
    "collapsed": true
   },
   "outputs": [],
   "source": [
    "chars_to_ignore = string.punctuation + '–'"
   ]
  },
  {
   "cell_type": "code",
   "execution_count": 7,
   "metadata": {
    "collapsed": true
   },
   "outputs": [],
   "source": [
    "def tokenize(text):\n",
    "    text = \"\".join([ch for ch in text if ch not in chars_to_ignore])\n",
    "    tokens = nltk.word_tokenize(text)    \n",
    "    return tokens"
   ]
  },
  {
   "cell_type": "code",
   "execution_count": 8,
   "metadata": {},
   "outputs": [],
   "source": [
    "tf_idf = TfidfVectorizer(input='filename', ngram_range=(1,3), \n",
    "                         stop_words='english', tokenizer=tokenize)"
   ]
  },
  {
   "cell_type": "code",
   "execution_count": 9,
   "metadata": {},
   "outputs": [
    {
     "data": {
      "text/plain": [
       "TfidfVectorizer(analyzer='word', binary=False, decode_error='strict',\n",
       "        dtype=<class 'numpy.int64'>, encoding='utf-8', input='filename',\n",
       "        lowercase=True, max_df=1.0, max_features=None, min_df=1,\n",
       "        ngram_range=(1, 3), norm='l2', preprocessor=None, smooth_idf=True,\n",
       "        stop_words='english', strip_accents=None, sublinear_tf=False,\n",
       "        token_pattern='(?u)\\\\b\\\\w\\\\w+\\\\b',\n",
       "        tokenizer=<function tokenize at 0x7fa6d5c558c8>, use_idf=True,\n",
       "        vocabulary=None)"
      ]
     },
     "execution_count": 9,
     "metadata": {},
     "output_type": "execute_result"
    }
   ],
   "source": [
    "tf_idf.fit(files)"
   ]
  },
  {
   "cell_type": "code",
   "execution_count": 10,
   "metadata": {},
   "outputs": [],
   "source": [
    "feature_names = tf_idf.get_feature_names()"
   ]
  },
  {
   "cell_type": "code",
   "execution_count": 11,
   "metadata": {},
   "outputs": [],
   "source": [
    "features = pd.DataFrame(feature_names, columns=['feature_name'])"
   ]
  },
  {
   "cell_type": "markdown",
   "metadata": {},
   "source": [
    "### Top 20 ngrams without stemming"
   ]
  },
  {
   "cell_type": "code",
   "execution_count": 12,
   "metadata": {
    "scrolled": false
   },
   "outputs": [
    {
     "name": "stdout",
     "output_type": "stream",
     "text": [
      "/home/gunny/Downloads/scripts/script.txt \n",
      "          tf_idf   feature_name\n",
      "8089   0.608682           food\n",
      "8745   0.122398          foods\n",
      "20122  0.074968          taste\n",
      "1564   0.069970        animals\n",
      "1519   0.068786         animal\n",
      "15770  0.068786         prices\n",
      "10774  0.066161        include\n",
      "5984   0.064973        dietary\n",
      "4797   0.062853        cooking\n",
      "15959  0.059975     production\n",
      "5362   0.056647       cultures\n",
      "22069  0.056237          world\n",
      "15136  0.054977         plants\n",
      "20557  0.054977          trade\n",
      "10016  0.052929         health\n",
      "21126  0.052929           used\n",
      "16563  0.052601            raw\n",
      "5069   0.052601      countries\n",
      "15545  0.052601    preparation\n",
      "11325  0.049979  international \n",
      "\n",
      "/home/gunny/Downloads/scripts/transcript_1.txt \n",
      "          tf_idf           feature_name\n",
      "8089   0.462283                   food\n",
      "7636   0.333177                   fast\n",
      "7639   0.312354              fast food\n",
      "17242  0.108283            restaurants\n",
      "12873  0.095770              mcdonalds\n",
      "14467  0.071827                outlets\n",
      "21437  0.071827                vendors\n",
      "17130  0.071317             restaurant\n",
      "7914   0.071317                   fish\n",
      "2415   0.061129                billion\n",
      "18339  0.058306                 served\n",
      "7705   0.056629               fastfood\n",
      "15070  0.055866                  pizza\n",
      "19548  0.055866                 street\n",
      "22069  0.054141                  world\n",
      "20952  0.054141                 united\n",
      "7686   0.050337  fast food restaurants\n",
      "12360  0.050337                located\n",
      "7924   0.047885             fish chips\n",
      "11064  0.045846               industry \n",
      "\n",
      "/home/gunny/Downloads/scripts/transcript_2.txt \n",
      "          tf_idf       feature_name\n",
      "17242  0.398641        restaurants\n",
      "17130  0.272480         restaurant\n",
      "8089   0.211045               food\n",
      "9785   0.097427              guide\n",
      "20031  0.078638             tables\n",
      "14679  0.070856              paris\n",
      "13259  0.067404           michelin\n",
      "18313  0.064486              serve\n",
      "5440   0.064486          customers\n",
      "9820   0.061999             guides\n",
      "12934  0.057364              meals\n",
      "18339  0.052761             served\n",
      "21936  0.050194               wine\n",
      "13821  0.046899                new\n",
      "7149   0.046899     establishments\n",
      "6630   0.046899             eating\n",
      "14823  0.046899             people\n",
      "16545  0.044936            ratings\n",
      "17389  0.044936  restaurants serve\n",
      "21618  0.044936            waiters \n",
      "\n",
      "/home/gunny/Downloads/scripts/transcript_3.txt \n",
      "          tf_idf feature_name\n",
      "4797   0.326634      cooking\n",
      "8089   0.282345         food\n",
      "21701  0.108734        water\n",
      "8745   0.094115        foods\n",
      "12998  0.094115         meat\n",
      "21536  0.092006      vitamin\n",
      "10108  0.092006         heat\n",
      "16563  0.088030          raw\n",
      "7748   0.083642         fats\n",
      "2148   0.083642       baking\n",
      "3051   0.081258       cancer\n",
      "17644  0.075278         risk\n",
      "9187   0.074487       frying\n",
      "4749   0.071970       cooked\n",
      "11176  0.067715  ingredients\n",
      "21379  0.067715   vegetables\n",
      "16180  0.066913     proteins\n",
      "1215   0.066913          ago\n",
      "22208  0.066913    years ago\n",
      "2574   0.066913      boiling \n",
      "\n"
     ]
    }
   ],
   "source": [
    "n = 20\n",
    "for file in files:\n",
    "    file_vectorized = tf_idf.transform([file,])\n",
    "    vectorization_array = file_vectorized.toarray()\n",
    "    vectorization_df = pd.DataFrame(vectorization_array.T, columns=['tf_idf'])\n",
    "    display = vectorization_df.join(features).sort_values(by='tf_idf', ascending=False)[:n]\n",
    "    print(file, '\\n', display[['tf_idf', 'feature_name']], '\\n')"
   ]
  },
  {
   "cell_type": "code",
   "execution_count": null,
   "metadata": {
    "collapsed": true
   },
   "outputs": [],
   "source": []
  }
 ],
 "metadata": {
  "kernelspec": {
   "display_name": "Python 3",
   "language": "python",
   "name": "python3"
  },
  "language_info": {
   "codemirror_mode": {
    "name": "ipython",
    "version": 3
   },
   "file_extension": ".py",
   "mimetype": "text/x-python",
   "name": "python",
   "nbconvert_exporter": "python",
   "pygments_lexer": "ipython3",
   "version": "3.5.2"
  }
 },
 "nbformat": 4,
 "nbformat_minor": 2
}
